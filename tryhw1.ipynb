{
 "cells": [
  {
   "cell_type": "markdown",
   "source": [
    "# Homework 1: Image resizing"
   ],
   "metadata": {}
  },
  {
   "cell_type": "code",
   "execution_count": 7,
   "source": [
    "!make clean\n",
    "!make"
   ],
   "outputs": [
    {
     "output_type": "stream",
     "name": "stdout",
     "text": [
      "rm -rf ./obj/image_opencv.o ./obj/load_image.o ./obj/process_image.o ./obj/args.o ./obj/filter_image.o ./obj/resize_image.o ./obj/test.o ./obj/harris_image.o ./obj/matrix.o ./obj/panorama_image.o ./obj/flow_image.o ./obj/list.o ./obj/data.o ./obj/classifier.o libuwimg.so libuwimg.a uwimg ./obj/main.o ./obj//*\n",
      "g++ -std=c++11  -Iinclude/ -Isrc/  -Wall -Wno-unknown-pragmas -Wfatal-errors -fPIC  -Ofast -c ./src/image_opencv.cpp -o obj/image_opencv.o\n",
      "gcc -Iinclude/ -Isrc/  -Wall -Wno-unknown-pragmas -Wfatal-errors -fPIC  -Ofast -c ./src/load_image.c -o obj/load_image.o\n",
      "In file included from \u001b[01m\u001b[K./src/load_image.c:25:0\u001b[m\u001b[K:\n",
      "\u001b[01m\u001b[K./src/stb_image.h:\u001b[m\u001b[K In function ‘\u001b[01m\u001b[Kstbi__load_gif_main\u001b[m\u001b[K’:\n",
      "\u001b[01m\u001b[K./src/stb_image.h:6801:11:\u001b[m\u001b[K \u001b[01;35m\u001b[Kwarning: \u001b[m\u001b[Kvariable ‘\u001b[01m\u001b[Kdelays_size\u001b[m\u001b[K’ set but not used [\u001b[01;35m\u001b[K-Wunused-but-set-variable\u001b[m\u001b[K]\n",
      "\n",
      "           \u001b[01;35m\u001b[K^~~~~~~~~~~\u001b[m\u001b[K\n",
      "\u001b[01m\u001b[K./src/stb_image.h:6800:11:\u001b[m\u001b[K \u001b[01;35m\u001b[Kwarning: \u001b[m\u001b[Kvariable ‘\u001b[01m\u001b[Kout_size\u001b[m\u001b[K’ set but not used [\u001b[01;35m\u001b[K-Wunused-but-set-variable\u001b[m\u001b[K]\n",
      "\n",
      "           \u001b[01;35m\u001b[K^~~~~~~~\u001b[m\u001b[K\n",
      "\u001b[01m\u001b[K./src/load_image.c:\u001b[m\u001b[K In function ‘\u001b[01m\u001b[Kload_image_binary\u001b[m\u001b[K’:\n",
      "\u001b[01m\u001b[K./src/load_image.c:115:5:\u001b[m\u001b[K \u001b[01;35m\u001b[Kwarning: \u001b[m\u001b[Kignoring return value of ‘\u001b[01m\u001b[Kfread\u001b[m\u001b[K’, declared with attribute warn_unused_result [\u001b[01;35m\u001b[K-Wunused-result\u001b[m\u001b[K]\n",
      "\n",
      "     \u001b[01;35m\u001b[K^~~~~~~~~~~~~~~~~~~~~~~~~~~~~\u001b[m\u001b[K\n",
      "\u001b[01m\u001b[K./src/load_image.c:116:5:\u001b[m\u001b[K \u001b[01;35m\u001b[Kwarning: \u001b[m\u001b[Kignoring return value of ‘\u001b[01m\u001b[Kfread\u001b[m\u001b[K’, declared with attribute warn_unused_result [\u001b[01;35m\u001b[K-Wunused-result\u001b[m\u001b[K]\n",
      "\n",
      "     \u001b[01;35m\u001b[K^~~~~~~~~~~~~~~~~~~~~~~~~~~~~\u001b[m\u001b[K\n",
      "\u001b[01m\u001b[K./src/load_image.c:117:5:\u001b[m\u001b[K \u001b[01;35m\u001b[Kwarning: \u001b[m\u001b[Kignoring return value of ‘\u001b[01m\u001b[Kfread\u001b[m\u001b[K’, declared with attribute warn_unused_result [\u001b[01;35m\u001b[K-Wunused-result\u001b[m\u001b[K]\n",
      "\n",
      "     \u001b[01;35m\u001b[K^~~~~~~~~~~~~~~~~~~~~~~~~~~~~\u001b[m\u001b[K\n",
      "\u001b[01m\u001b[K./src/load_image.c:119:5:\u001b[m\u001b[K \u001b[01;35m\u001b[Kwarning: \u001b[m\u001b[Kignoring return value of ‘\u001b[01m\u001b[Kfread\u001b[m\u001b[K’, declared with attribute warn_unused_result [\u001b[01;35m\u001b[K-Wunused-result\u001b[m\u001b[K]\n",
      "\n",
      "     \u001b[01;35m\u001b[K^~~~~~~~~~~~~~~~~~~~~~~~~~~~~~~~~~~~~~~~~~~~~~~~~\u001b[m\u001b[K\n",
      "gcc -Iinclude/ -Isrc/  -Wall -Wno-unknown-pragmas -Wfatal-errors -fPIC  -Ofast -c ./src/hw0/process_image.c -o obj/process_image.o\n",
      "gcc -Iinclude/ -Isrc/  -Wall -Wno-unknown-pragmas -Wfatal-errors -fPIC  -Ofast -c ./src/args.c -o obj/args.o\n",
      "gcc -Iinclude/ -Isrc/  -Wall -Wno-unknown-pragmas -Wfatal-errors -fPIC  -Ofast -c ./src/hw2/filter_image.c -o obj/filter_image.o\n",
      "\u001b[01m\u001b[K./src/hw2/filter_image.c:\u001b[m\u001b[K In function ‘\u001b[01m\u001b[Kconvolve_image\u001b[m\u001b[K’:\n",
      "\u001b[01m\u001b[K./src/hw2/filter_image.c:72:23:\u001b[m\u001b[K \u001b[01;35m\u001b[Kwarning: \u001b[m\u001b[Kunused variable ‘\u001b[01m\u001b[Kq\u001b[m\u001b[K’ [\u001b[01;35m\u001b[K-Wunused-variable\u001b[m\u001b[K]\n",
      "\n",
      "                       \u001b[01;35m\u001b[K^\u001b[m\u001b[K\n",
      "\u001b[01m\u001b[K./src/hw2/filter_image.c:65:11:\u001b[m\u001b[K \u001b[01;35m\u001b[Kwarning: \u001b[m\u001b[Kunused variable ‘\u001b[01m\u001b[Kresult\u001b[m\u001b[K’ [\u001b[01;35m\u001b[K-Wunused-variable\u001b[m\u001b[K]\n",
      "\n",
      "           \u001b[01;35m\u001b[K^~~~~~\u001b[m\u001b[K\n",
      "gcc -Iinclude/ -Isrc/  -Wall -Wno-unknown-pragmas -Wfatal-errors -fPIC  -Ofast -c ./src/hw1/resize_image.c -o obj/resize_image.o\n",
      "gcc -Iinclude/ -Isrc/  -Wall -Wno-unknown-pragmas -Wfatal-errors -fPIC  -Ofast -c ./src/test.c -o obj/test.o\n",
      "gcc -Iinclude/ -Isrc/  -Wall -Wno-unknown-pragmas -Wfatal-errors -fPIC  -Ofast -c ./src/hw3/harris_image.c -o obj/harris_image.o\n",
      "gcc -Iinclude/ -Isrc/  -Wall -Wno-unknown-pragmas -Wfatal-errors -fPIC  -Ofast -c ./src/matrix.c -o obj/matrix.o\n",
      "\u001b[01m\u001b[K./src/matrix.c:\u001b[m\u001b[K In function ‘\u001b[01m\u001b[Kload_matrix\u001b[m\u001b[K’:\n",
      "\u001b[01m\u001b[K./src/matrix.c:391:5:\u001b[m\u001b[K \u001b[01;35m\u001b[Kwarning: \u001b[m\u001b[Kignoring return value of ‘\u001b[01m\u001b[Kfread\u001b[m\u001b[K’, declared with attribute warn_unused_result [\u001b[01;35m\u001b[K-Wunused-result\u001b[m\u001b[K]\n",
      "\n",
      "     \u001b[01;35m\u001b[K^~~~~~~~~~~~~~~~~~~~~~~~~~~~~~~~\u001b[m\u001b[K\n",
      "\u001b[01m\u001b[K./src/matrix.c:392:5:\u001b[m\u001b[K \u001b[01;35m\u001b[Kwarning: \u001b[m\u001b[Kignoring return value of ‘\u001b[01m\u001b[Kfread\u001b[m\u001b[K’, declared with attribute warn_unused_result [\u001b[01;35m\u001b[K-Wunused-result\u001b[m\u001b[K]\n",
      "\n",
      "     \u001b[01;35m\u001b[K^~~~~~~~~~~~~~~~~~~~~~~~~~~~~~~~\u001b[m\u001b[K\n",
      "\u001b[01m\u001b[K./src/matrix.c:396:9:\u001b[m\u001b[K \u001b[01;35m\u001b[Kwarning: \u001b[m\u001b[Kignoring return value of ‘\u001b[01m\u001b[Kfread\u001b[m\u001b[K’, declared with attribute warn_unused_result [\u001b[01;35m\u001b[K-Wunused-result\u001b[m\u001b[K]\n",
      "\n",
      "         \u001b[01;35m\u001b[K^~~~~~~~~~~~~~~~~~~~~~~~~~~~~~~~~~~~~~~~~~\u001b[m\u001b[K\n",
      "gcc -Iinclude/ -Isrc/  -Wall -Wno-unknown-pragmas -Wfatal-errors -fPIC  -Ofast -c ./src/hw3/panorama_image.c -o obj/panorama_image.o\n",
      "\u001b[01m\u001b[K./src/hw3/panorama_image.c:\u001b[m\u001b[K In function ‘\u001b[01m\u001b[Kmatch_descriptors\u001b[m\u001b[K’:\n",
      "\u001b[01m\u001b[K./src/hw3/panorama_image.c:132:9:\u001b[m\u001b[K \u001b[01;35m\u001b[Kwarning: \u001b[m\u001b[Kunused variable ‘\u001b[01m\u001b[Ki\u001b[m\u001b[K’ [\u001b[01;35m\u001b[K-Wunused-variable\u001b[m\u001b[K]\n",
      "\n",
      "         \u001b[01;35m\u001b[K^\u001b[m\u001b[K\n",
      "\u001b[01m\u001b[K./src/hw3/panorama_image.c:\u001b[m\u001b[K In function ‘\u001b[01m\u001b[Kproject_point\u001b[m\u001b[K’:\n",
      "\u001b[01m\u001b[K./src/hw3/panorama_image.c:167:12:\u001b[m\u001b[K \u001b[01;35m\u001b[Kwarning: \u001b[m\u001b[Kunused variable ‘\u001b[01m\u001b[Kc\u001b[m\u001b[K’ [\u001b[01;35m\u001b[K-Wunused-variable\u001b[m\u001b[K]\n",
      "\n",
      "            \u001b[01;35m\u001b[K^\u001b[m\u001b[K\n",
      "\u001b[01m\u001b[K./src/hw3/panorama_image.c:\u001b[m\u001b[K In function ‘\u001b[01m\u001b[Kmodel_inliers\u001b[m\u001b[K’:\n",
      "\u001b[01m\u001b[K./src/hw3/panorama_image.c:195:9:\u001b[m\u001b[K \u001b[01;35m\u001b[Kwarning: \u001b[m\u001b[Kunused variable ‘\u001b[01m\u001b[Ki\u001b[m\u001b[K’ [\u001b[01;35m\u001b[K-Wunused-variable\u001b[m\u001b[K]\n",
      "\n",
      "         \u001b[01;35m\u001b[K^\u001b[m\u001b[K\n",
      "\u001b[01m\u001b[K./src/hw3/panorama_image.c:\u001b[m\u001b[K In function ‘\u001b[01m\u001b[Kcompute_homography\u001b[m\u001b[K’:\n",
      "\u001b[01m\u001b[K./src/hw3/panorama_image.c:225:16:\u001b[m\u001b[K \u001b[01;35m\u001b[Kwarning: \u001b[m\u001b[Kunused variable ‘\u001b[01m\u001b[Kyp\u001b[m\u001b[K’ [\u001b[01;35m\u001b[K-Wunused-variable\u001b[m\u001b[K]\n",
      "\n",
      "                \u001b[01;35m\u001b[K^~\u001b[m\u001b[K\n",
      "\u001b[01m\u001b[K./src/hw3/panorama_image.c:224:16:\u001b[m\u001b[K \u001b[01;35m\u001b[Kwarning: \u001b[m\u001b[Kunused variable ‘\u001b[01m\u001b[Ky\u001b[m\u001b[K’ [\u001b[01;35m\u001b[K-Wunused-variable\u001b[m\u001b[K]\n",
      "\n",
      "                \u001b[01;35m\u001b[K^\u001b[m\u001b[K\n",
      "\u001b[01m\u001b[K./src/hw3/panorama_image.c:223:16:\u001b[m\u001b[K \u001b[01;35m\u001b[Kwarning: \u001b[m\u001b[Kunused variable ‘\u001b[01m\u001b[Kxp\u001b[m\u001b[K’ [\u001b[01;35m\u001b[K-Wunused-variable\u001b[m\u001b[K]\n",
      "\n",
      "                \u001b[01;35m\u001b[K^~\u001b[m\u001b[K\n",
      "\u001b[01m\u001b[K./src/hw3/panorama_image.c:222:16:\u001b[m\u001b[K \u001b[01;35m\u001b[Kwarning: \u001b[m\u001b[Kunused variable ‘\u001b[01m\u001b[Kx\u001b[m\u001b[K’ [\u001b[01;35m\u001b[K-Wunused-variable\u001b[m\u001b[K]\n",
      "\n",
      "                \u001b[01;35m\u001b[K^\u001b[m\u001b[K\n",
      "\u001b[01m\u001b[K./src/hw3/panorama_image.c:\u001b[m\u001b[K In function ‘\u001b[01m\u001b[KRANSAC\u001b[m\u001b[K’:\n",
      "\u001b[01m\u001b[K./src/hw3/panorama_image.c:254:9:\u001b[m\u001b[K \u001b[01;35m\u001b[Kwarning: \u001b[m\u001b[Kunused variable ‘\u001b[01m\u001b[Kbest\u001b[m\u001b[K’ [\u001b[01;35m\u001b[K-Wunused-variable\u001b[m\u001b[K]\n",
      "\n",
      "         \u001b[01;35m\u001b[K^~~~\u001b[m\u001b[K\n",
      "\u001b[01m\u001b[K./src/hw3/panorama_image.c:253:9:\u001b[m\u001b[K \u001b[01;35m\u001b[Kwarning: \u001b[m\u001b[Kunused variable ‘\u001b[01m\u001b[Ke\u001b[m\u001b[K’ [\u001b[01;35m\u001b[K-Wunused-variable\u001b[m\u001b[K]\n",
      "\n",
      "         \u001b[01;35m\u001b[K^\u001b[m\u001b[K\n",
      "gcc -Iinclude/ -Isrc/  -Wall -Wno-unknown-pragmas -Wfatal-errors -fPIC  -Ofast -c ./src/hw4/flow_image.c -o obj/flow_image.o\n",
      "\u001b[01m\u001b[K./src/hw4/flow_image.c:\u001b[m\u001b[K In function ‘\u001b[01m\u001b[Kbox_filter_image\u001b[m\u001b[K’:\n",
      "\u001b[01m\u001b[K./src/hw4/flow_image.c:61:11:\u001b[m\u001b[K \u001b[01;35m\u001b[Kwarning: \u001b[m\u001b[Kunused variable ‘\u001b[01m\u001b[Kinteg\u001b[m\u001b[K’ [\u001b[01;35m\u001b[K-Wunused-variable\u001b[m\u001b[K]\n",
      "\n",
      "           \u001b[01;35m\u001b[K^~~~~\u001b[m\u001b[K\n",
      "\u001b[01m\u001b[K./src/hw4/flow_image.c:60:13:\u001b[m\u001b[K \u001b[01;35m\u001b[Kwarning: \u001b[m\u001b[Kunused variable ‘\u001b[01m\u001b[Kk\u001b[m\u001b[K’ [\u001b[01;35m\u001b[K-Wunused-variable\u001b[m\u001b[K]\n",
      "\n",
      "             \u001b[01;35m\u001b[K^\u001b[m\u001b[K\n",
      "\u001b[01m\u001b[K./src/hw4/flow_image.c:60:11:\u001b[m\u001b[K \u001b[01;35m\u001b[Kwarning: \u001b[m\u001b[Kunused variable ‘\u001b[01m\u001b[Kj\u001b[m\u001b[K’ [\u001b[01;35m\u001b[K-Wunused-variable\u001b[m\u001b[K]\n",
      "\n",
      "           \u001b[01;35m\u001b[K^\u001b[m\u001b[K\n",
      "\u001b[01m\u001b[K./src/hw4/flow_image.c:60:9:\u001b[m\u001b[K \u001b[01;35m\u001b[Kwarning: \u001b[m\u001b[Kunused variable ‘\u001b[01m\u001b[Ki\u001b[m\u001b[K’ [\u001b[01;35m\u001b[K-Wunused-variable\u001b[m\u001b[K]\n",
      "\n",
      "         \u001b[01;35m\u001b[K^\u001b[m\u001b[K\n",
      "\u001b[01m\u001b[K./src/hw4/flow_image.c:\u001b[m\u001b[K In function ‘\u001b[01m\u001b[Ktime_structure_matrix\u001b[m\u001b[K’:\n",
      "\u001b[01m\u001b[K./src/hw4/flow_image.c:75:9:\u001b[m\u001b[K \u001b[01;35m\u001b[Kwarning: \u001b[m\u001b[Kunused variable ‘\u001b[01m\u001b[Ki\u001b[m\u001b[K’ [\u001b[01;35m\u001b[K-Wunused-variable\u001b[m\u001b[K]\n",
      "\n",
      "         \u001b[01;35m\u001b[K^\u001b[m\u001b[K\n",
      "\u001b[01m\u001b[K./src/hw4/flow_image.c:\u001b[m\u001b[K In function ‘\u001b[01m\u001b[Kvelocity_image\u001b[m\u001b[K’:\n",
      "\u001b[01m\u001b[K./src/hw4/flow_image.c:107:19:\u001b[m\u001b[K \u001b[01;35m\u001b[Kwarning: \u001b[m\u001b[Kunused variable ‘\u001b[01m\u001b[KIyt\u001b[m\u001b[K’ [\u001b[01;35m\u001b[K-Wunused-variable\u001b[m\u001b[K]\n",
      "\n",
      "                   \u001b[01;35m\u001b[K^~~\u001b[m\u001b[K\n",
      "\u001b[01m\u001b[K./src/hw4/flow_image.c:106:19:\u001b[m\u001b[K \u001b[01;35m\u001b[Kwarning: \u001b[m\u001b[Kunused variable ‘\u001b[01m\u001b[KIxt\u001b[m\u001b[K’ [\u001b[01;35m\u001b[K-Wunused-variable\u001b[m\u001b[K]\n",
      "\n",
      "                   \u001b[01;35m\u001b[K^~~\u001b[m\u001b[K\n",
      "\u001b[01m\u001b[K./src/hw4/flow_image.c:105:19:\u001b[m\u001b[K \u001b[01;35m\u001b[Kwarning: \u001b[m\u001b[Kunused variable ‘\u001b[01m\u001b[KIxy\u001b[m\u001b[K’ [\u001b[01;35m\u001b[K-Wunused-variable\u001b[m\u001b[K]\n",
      "\n",
      "                   \u001b[01;35m\u001b[K^~~\u001b[m\u001b[K\n",
      "\u001b[01m\u001b[K./src/hw4/flow_image.c:104:19:\u001b[m\u001b[K \u001b[01;35m\u001b[Kwarning: \u001b[m\u001b[Kunused variable ‘\u001b[01m\u001b[KIyy\u001b[m\u001b[K’ [\u001b[01;35m\u001b[K-Wunused-variable\u001b[m\u001b[K]\n",
      "\n",
      "                   \u001b[01;35m\u001b[K^~~\u001b[m\u001b[K\n",
      "\u001b[01m\u001b[K./src/hw4/flow_image.c:103:19:\u001b[m\u001b[K \u001b[01;35m\u001b[Kwarning: \u001b[m\u001b[Kunused variable ‘\u001b[01m\u001b[KIxx\u001b[m\u001b[K’ [\u001b[01;35m\u001b[K-Wunused-variable\u001b[m\u001b[K]\n",
      "\n",
      "                   \u001b[01;35m\u001b[K^~~\u001b[m\u001b[K\n",
      "\u001b[01m\u001b[K./src/hw4/flow_image.c:\u001b[m\u001b[K In function ‘\u001b[01m\u001b[Ktime_structure_matrix\u001b[m\u001b[K’:\n",
      "\u001b[01m\u001b[K./src/hw4/flow_image.c:90:12:\u001b[m\u001b[K \u001b[01;35m\u001b[Kwarning: \u001b[m\u001b[K‘\u001b[01m\u001b[KS\u001b[m\u001b[K’ is used uninitialized in this function [\u001b[01;35m\u001b[K-Wuninitialized\u001b[m\u001b[K]\n",
      "\n",
      "            \u001b[01;35m\u001b[K^\u001b[m\u001b[K\n",
      "gcc -Iinclude/ -Isrc/  -Wall -Wno-unknown-pragmas -Wfatal-errors -fPIC  -Ofast -c ./src/list.c -o obj/list.o\n",
      "gcc -Iinclude/ -Isrc/  -Wall -Wno-unknown-pragmas -Wfatal-errors -fPIC  -Ofast -c ./src/data.c -o obj/data.o\n",
      "\u001b[01m\u001b[K./src/data.c:\u001b[m\u001b[K In function ‘\u001b[01m\u001b[Kfgetl\u001b[m\u001b[K’:\n",
      "\u001b[01m\u001b[K./src/data.c:111:9:\u001b[m\u001b[K \u001b[01;35m\u001b[Kwarning: \u001b[m\u001b[Kignoring return value of ‘\u001b[01m\u001b[Kfgets\u001b[m\u001b[K’, declared with attribute warn_unused_result [\u001b[01;35m\u001b[K-Wunused-result\u001b[m\u001b[K]\n",
      "\n",
      "         \u001b[01;35m\u001b[K^~~~~~~~~~~~~~~~~~~~~~~~~~~~~~~~\u001b[m\u001b[K\n",
      "gcc -Iinclude/ -Isrc/  -Wall -Wno-unknown-pragmas -Wfatal-errors -fPIC  -Ofast -c ./src/hw5/classifier.c -o obj/classifier.o\n",
      "\u001b[01m\u001b[K./src/hw5/classifier.c:\u001b[m\u001b[K In function ‘\u001b[01m\u001b[Kactivate_matrix\u001b[m\u001b[K’:\n",
      "\u001b[01m\u001b[K./src/hw5/classifier.c:16:20:\u001b[m\u001b[K \u001b[01;35m\u001b[Kwarning: \u001b[m\u001b[Kunused variable ‘\u001b[01m\u001b[Kx\u001b[m\u001b[K’ [\u001b[01;35m\u001b[K-Wunused-variable\u001b[m\u001b[K]\n",
      "\n",
      "                    \u001b[01;35m\u001b[K^\u001b[m\u001b[K\n",
      "\u001b[01m\u001b[K./src/hw5/classifier.c:\u001b[m\u001b[K In function ‘\u001b[01m\u001b[Kgradient_matrix\u001b[m\u001b[K’:\n",
      "\u001b[01m\u001b[K./src/hw5/classifier.c:44:20:\u001b[m\u001b[K \u001b[01;35m\u001b[Kwarning: \u001b[m\u001b[Kunused variable ‘\u001b[01m\u001b[Kx\u001b[m\u001b[K’ [\u001b[01;35m\u001b[K-Wunused-variable\u001b[m\u001b[K]\n",
      "\n",
      "                    \u001b[01;35m\u001b[K^\u001b[m\u001b[K\n",
      "gcc -Wall -Wno-unknown-pragmas -Wfatal-errors -fPIC  -Ofast -shared obj/image_opencv.o obj/load_image.o obj/process_image.o obj/args.o obj/filter_image.o obj/resize_image.o obj/test.o obj/harris_image.o obj/matrix.o obj/panorama_image.o obj/flow_image.o obj/list.o obj/data.o obj/classifier.o -o libuwimg.so -lm -pthread \n",
      "ar rcs libuwimg.a obj/image_opencv.o obj/load_image.o obj/process_image.o obj/args.o obj/filter_image.o obj/resize_image.o obj/test.o obj/harris_image.o obj/matrix.o obj/panorama_image.o obj/flow_image.o obj/list.o obj/data.o obj/classifier.o\n",
      "gcc -Iinclude/ -Isrc/  -Wall -Wno-unknown-pragmas -Wfatal-errors -fPIC  -Ofast -c ./src/main.c -o obj/main.o\n",
      "gcc -Iinclude/ -Isrc/  -Wall -Wno-unknown-pragmas -Wfatal-errors -fPIC  -Ofast obj/main.o obj/image_opencv.o obj/load_image.o obj/process_image.o obj/args.o obj/filter_image.o obj/resize_image.o obj/test.o obj/harris_image.o obj/matrix.o obj/panorama_image.o obj/flow_image.o obj/list.o obj/data.o obj/classifier.o -o uwimg -lm -pthread  \n"
     ]
    }
   ],
   "metadata": {}
  },
  {
   "cell_type": "code",
   "execution_count": 8,
   "source": [
    "!./uwimg test hw1"
   ],
   "outputs": [
    {
     "output_type": "stream",
     "name": "stdout",
     "text": [
      "passed: [test_nn_interpolate] testing [within_eps(nn_interpolate(im, -.5, -.5, 0) , 0.231373, EPS)] in ./src/test.c, line 202\n",
      "passed: [test_nn_interpolate] testing [within_eps(nn_interpolate(im, -.5, .5, 1) , 0.239216, EPS)] in ./src/test.c, line 203\n",
      "passed: [test_nn_interpolate] testing [within_eps(nn_interpolate(im, .499, .5, 2) , 0.207843, EPS)] in ./src/test.c, line 204\n",
      "passed: [test_nn_interpolate] testing [within_eps(nn_interpolate(im, 14.2, 15.9, 1), 0.690196, EPS)] in ./src/test.c, line 205\n",
      "passed: [test_nn_resize] testing [same_image(resized, gt, EPS)] in ./src/test.c, line 225\n",
      "passed: [test_nn_resize] testing [same_image(resized2, gt2, EPS)] in ./src/test.c, line 233\n",
      "passed: [test_bl_interpolate] testing [within_eps(bilinear_interpolate(im, -.5, -.5, 0) , 0.231373, EPS)] in ./src/test.c, line 212\n",
      "passed: [test_bl_interpolate] testing [within_eps(bilinear_interpolate(im, -.5, .5, 1) , 0.237255, EPS)] in ./src/test.c, line 213\n",
      "passed: [test_bl_interpolate] testing [within_eps(bilinear_interpolate(im, .499, .5, 2) , 0.206861, EPS)] in ./src/test.c, line 214\n",
      "passed: [test_bl_interpolate] testing [within_eps(bilinear_interpolate(im, 14.2, 15.9, 1), 0.678588, EPS)] in ./src/test.c, line 215\n",
      "passed: [test_bl_resize] testing [same_image(resized, gt, EPS)] in ./src/test.c, line 244\n",
      "passed: [test_bl_resize] testing [same_image(resized2, gt2, EPS)] in ./src/test.c, line 252\n",
      "passed: [test_multiple_resize] testing [same_image(im, gt, EPS)] in ./src/test.c, line 270\n",
      "13 tests, 13 passed, 0 failed\n"
     ]
    }
   ],
   "metadata": {}
  },
  {
   "cell_type": "code",
   "execution_count": 9,
   "source": [
    "from uwimg import *\n",
    "im = load_image(\"data/dogsmall.jpg\")\n",
    "a = nn_resize(im, im.w*4, im.h*4)\n",
    "save_image(a, \"dog4x-nn\")"
   ],
   "outputs": [],
   "metadata": {}
  },
  {
   "cell_type": "code",
   "execution_count": 10,
   "source": [
    "im = load_image(\"data/dogsmall.jpg\")\n",
    "a = bilinear_resize(im, im.w*4, im.h*4)\n",
    "save_image(a, \"dog4x-bl\")"
   ],
   "outputs": [],
   "metadata": {}
  },
  {
   "cell_type": "code",
   "execution_count": 11,
   "source": [
    "im = load_image(\"data/dog.jpg\")\n",
    "a = nn_resize(im, im.w//7, im.h//7)\n",
    "save_image(a, \"dog7th-bl\")"
   ],
   "outputs": [],
   "metadata": {}
  },
  {
   "cell_type": "code",
   "execution_count": null,
   "source": [],
   "outputs": [],
   "metadata": {}
  }
 ],
 "metadata": {
  "orig_nbformat": 4,
  "language_info": {
   "name": "python",
   "version": "3.7.9",
   "mimetype": "text/x-python",
   "codemirror_mode": {
    "name": "ipython",
    "version": 3
   },
   "pygments_lexer": "ipython3",
   "nbconvert_exporter": "python",
   "file_extension": ".py"
  },
  "kernelspec": {
   "name": "python3",
   "display_name": "Python 3.7.9 64-bit ('compvis': conda)"
  },
  "interpreter": {
   "hash": "47b13acee6fc9c20503a26357645d043b54e5deaa1a8371b728692954a265542"
  }
 },
 "nbformat": 4,
 "nbformat_minor": 2
}