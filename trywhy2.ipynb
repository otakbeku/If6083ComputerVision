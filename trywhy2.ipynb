{
 "cells": [
  {
   "cell_type": "markdown",
   "source": [
    "# Homework 2: image filtering"
   ],
   "metadata": {}
  },
  {
   "cell_type": "code",
   "execution_count": 2,
   "source": [
    "!rm low-frequency.jpg high-frequency.jpg reconstruct.jpg magnitude.jpg colorized.jpg dog-sharpen.jpg dog-emboss.jpg colorized-sigma-1.jpg\n",
    "!make clean\n",
    "!make"
   ],
   "outputs": [
    {
     "output_type": "stream",
     "name": "stdout",
     "text": [
      "rm: cannot remove 'low-frequency.jpg': No such file or directory\n",
      "rm: cannot remove 'high-frequency.jpg': No such file or directory\n",
      "rm: cannot remove 'reconstruct.jpg': No such file or directory\n",
      "rm: cannot remove 'magnitude.jpg': No such file or directory\n",
      "rm: cannot remove 'colorized.jpg': No such file or directory\n",
      "rm: cannot remove 'dog-sharpen.jpg': No such file or directory\n",
      "rm: cannot remove 'dog-emboss.jpg': No such file or directory\n",
      "rm: cannot remove 'colorized-sigma-1.jpg': No such file or directory\n",
      "rm -rf ./obj/image_opencv.o ./obj/load_image.o ./obj/process_image.o ./obj/args.o ./obj/filter_image.o ./obj/resize_image.o ./obj/test.o ./obj/harris_image.o ./obj/matrix.o ./obj/panorama_image.o ./obj/flow_image.o ./obj/list.o ./obj/data.o ./obj/classifier.o libuwimg.so libuwimg.a uwimg ./obj/main.o ./obj//*\n",
      "make: Warning: File 'obj' has modification time 1.5 s in the future\n",
      "g++ -std=c++11  -Iinclude/ -Isrc/  -Wall -Wno-unknown-pragmas -Wfatal-errors -fPIC  -Ofast -c ./src/image_opencv.cpp -o obj/image_opencv.o\n",
      "gcc -Iinclude/ -Isrc/  -Wall -Wno-unknown-pragmas -Wfatal-errors -fPIC  -Ofast -c ./src/load_image.c -o obj/load_image.o\n",
      "In file included from \u001b[01m\u001b[K./src/load_image.c:25:0\u001b[m\u001b[K:\n",
      "\u001b[01m\u001b[K./src/stb_image.h:\u001b[m\u001b[K In function ‘\u001b[01m\u001b[Kstbi__load_gif_main\u001b[m\u001b[K’:\n",
      "\u001b[01m\u001b[K./src/stb_image.h:6801:11:\u001b[m\u001b[K \u001b[01;35m\u001b[Kwarning: \u001b[m\u001b[Kvariable ‘\u001b[01m\u001b[Kdelays_size\u001b[m\u001b[K’ set but not used [\u001b[01;35m\u001b[K-Wunused-but-set-variable\u001b[m\u001b[K]\n",
      "\n",
      "           \u001b[01;35m\u001b[K^~~~~~~~~~~\u001b[m\u001b[K\n",
      "\u001b[01m\u001b[K./src/stb_image.h:6800:11:\u001b[m\u001b[K \u001b[01;35m\u001b[Kwarning: \u001b[m\u001b[Kvariable ‘\u001b[01m\u001b[Kout_size\u001b[m\u001b[K’ set but not used [\u001b[01;35m\u001b[K-Wunused-but-set-variable\u001b[m\u001b[K]\n",
      "\n",
      "           \u001b[01;35m\u001b[K^~~~~~~~\u001b[m\u001b[K\n",
      "\u001b[01m\u001b[K./src/load_image.c:\u001b[m\u001b[K In function ‘\u001b[01m\u001b[Kload_image_binary\u001b[m\u001b[K’:\n",
      "\u001b[01m\u001b[K./src/load_image.c:115:5:\u001b[m\u001b[K \u001b[01;35m\u001b[Kwarning: \u001b[m\u001b[Kignoring return value of ‘\u001b[01m\u001b[Kfread\u001b[m\u001b[K’, declared with attribute warn_unused_result [\u001b[01;35m\u001b[K-Wunused-result\u001b[m\u001b[K]\n",
      "\n",
      "     \u001b[01;35m\u001b[K^~~~~~~~~~~~~~~~~~~~~~~~~~~~~\u001b[m\u001b[K\n",
      "\u001b[01m\u001b[K./src/load_image.c:116:5:\u001b[m\u001b[K \u001b[01;35m\u001b[Kwarning: \u001b[m\u001b[Kignoring return value of ‘\u001b[01m\u001b[Kfread\u001b[m\u001b[K’, declared with attribute warn_unused_result [\u001b[01;35m\u001b[K-Wunused-result\u001b[m\u001b[K]\n",
      "\n",
      "     \u001b[01;35m\u001b[K^~~~~~~~~~~~~~~~~~~~~~~~~~~~~\u001b[m\u001b[K\n",
      "\u001b[01m\u001b[K./src/load_image.c:117:5:\u001b[m\u001b[K \u001b[01;35m\u001b[Kwarning: \u001b[m\u001b[Kignoring return value of ‘\u001b[01m\u001b[Kfread\u001b[m\u001b[K’, declared with attribute warn_unused_result [\u001b[01;35m\u001b[K-Wunused-result\u001b[m\u001b[K]\n",
      "\n",
      "     \u001b[01;35m\u001b[K^~~~~~~~~~~~~~~~~~~~~~~~~~~~~\u001b[m\u001b[K\n",
      "\u001b[01m\u001b[K./src/load_image.c:119:5:\u001b[m\u001b[K \u001b[01;35m\u001b[Kwarning: \u001b[m\u001b[Kignoring return value of ‘\u001b[01m\u001b[Kfread\u001b[m\u001b[K’, declared with attribute warn_unused_result [\u001b[01;35m\u001b[K-Wunused-result\u001b[m\u001b[K]\n",
      "\n",
      "     \u001b[01;35m\u001b[K^~~~~~~~~~~~~~~~~~~~~~~~~~~~~~~~~~~~~~~~~~~~~~~~~\u001b[m\u001b[K\n",
      "gcc -Iinclude/ -Isrc/  -Wall -Wno-unknown-pragmas -Wfatal-errors -fPIC  -Ofast -c ./src/hw0/process_image.c -o obj/process_image.o\n",
      "gcc -Iinclude/ -Isrc/  -Wall -Wno-unknown-pragmas -Wfatal-errors -fPIC  -Ofast -c ./src/args.c -o obj/args.o\n",
      "gcc -Iinclude/ -Isrc/  -Wall -Wno-unknown-pragmas -Wfatal-errors -fPIC  -Ofast -c ./src/hw2/filter_image.c -o obj/filter_image.o\n",
      "gcc -Iinclude/ -Isrc/  -Wall -Wno-unknown-pragmas -Wfatal-errors -fPIC  -Ofast -c ./src/hw1/resize_image.c -o obj/resize_image.o\n",
      "gcc -Iinclude/ -Isrc/  -Wall -Wno-unknown-pragmas -Wfatal-errors -fPIC  -Ofast -c ./src/test.c -o obj/test.o\n",
      "gcc -Iinclude/ -Isrc/  -Wall -Wno-unknown-pragmas -Wfatal-errors -fPIC  -Ofast -c ./src/hw3/harris_image.c -o obj/harris_image.o\n",
      "gcc -Iinclude/ -Isrc/  -Wall -Wno-unknown-pragmas -Wfatal-errors -fPIC  -Ofast -c ./src/matrix.c -o obj/matrix.o\n",
      "\u001b[01m\u001b[K./src/matrix.c:\u001b[m\u001b[K In function ‘\u001b[01m\u001b[Kload_matrix\u001b[m\u001b[K’:\n",
      "\u001b[01m\u001b[K./src/matrix.c:391:5:\u001b[m\u001b[K \u001b[01;35m\u001b[Kwarning: \u001b[m\u001b[Kignoring return value of ‘\u001b[01m\u001b[Kfread\u001b[m\u001b[K’, declared with attribute warn_unused_result [\u001b[01;35m\u001b[K-Wunused-result\u001b[m\u001b[K]\n",
      "\n",
      "     \u001b[01;35m\u001b[K^~~~~~~~~~~~~~~~~~~~~~~~~~~~~~~~\u001b[m\u001b[K\n",
      "\u001b[01m\u001b[K./src/matrix.c:392:5:\u001b[m\u001b[K \u001b[01;35m\u001b[Kwarning: \u001b[m\u001b[Kignoring return value of ‘\u001b[01m\u001b[Kfread\u001b[m\u001b[K’, declared with attribute warn_unused_result [\u001b[01;35m\u001b[K-Wunused-result\u001b[m\u001b[K]\n",
      "\n",
      "     \u001b[01;35m\u001b[K^~~~~~~~~~~~~~~~~~~~~~~~~~~~~~~~\u001b[m\u001b[K\n",
      "\u001b[01m\u001b[K./src/matrix.c:396:9:\u001b[m\u001b[K \u001b[01;35m\u001b[Kwarning: \u001b[m\u001b[Kignoring return value of ‘\u001b[01m\u001b[Kfread\u001b[m\u001b[K’, declared with attribute warn_unused_result [\u001b[01;35m\u001b[K-Wunused-result\u001b[m\u001b[K]\n",
      "\n",
      "         \u001b[01;35m\u001b[K^~~~~~~~~~~~~~~~~~~~~~~~~~~~~~~~~~~~~~~~~~\u001b[m\u001b[K\n",
      "gcc -Iinclude/ -Isrc/  -Wall -Wno-unknown-pragmas -Wfatal-errors -fPIC  -Ofast -c ./src/hw3/panorama_image.c -o obj/panorama_image.o\n",
      "\u001b[01m\u001b[K./src/hw3/panorama_image.c:\u001b[m\u001b[K In function ‘\u001b[01m\u001b[Kmatch_descriptors\u001b[m\u001b[K’:\n",
      "\u001b[01m\u001b[K./src/hw3/panorama_image.c:132:9:\u001b[m\u001b[K \u001b[01;35m\u001b[Kwarning: \u001b[m\u001b[Kunused variable ‘\u001b[01m\u001b[Ki\u001b[m\u001b[K’ [\u001b[01;35m\u001b[K-Wunused-variable\u001b[m\u001b[K]\n",
      "\n",
      "         \u001b[01;35m\u001b[K^\u001b[m\u001b[K\n",
      "\u001b[01m\u001b[K./src/hw3/panorama_image.c:\u001b[m\u001b[K In function ‘\u001b[01m\u001b[Kproject_point\u001b[m\u001b[K’:\n",
      "\u001b[01m\u001b[K./src/hw3/panorama_image.c:167:12:\u001b[m\u001b[K \u001b[01;35m\u001b[Kwarning: \u001b[m\u001b[Kunused variable ‘\u001b[01m\u001b[Kc\u001b[m\u001b[K’ [\u001b[01;35m\u001b[K-Wunused-variable\u001b[m\u001b[K]\n",
      "\n",
      "            \u001b[01;35m\u001b[K^\u001b[m\u001b[K\n",
      "\u001b[01m\u001b[K./src/hw3/panorama_image.c:\u001b[m\u001b[K In function ‘\u001b[01m\u001b[Kmodel_inliers\u001b[m\u001b[K’:\n",
      "\u001b[01m\u001b[K./src/hw3/panorama_image.c:195:9:\u001b[m\u001b[K \u001b[01;35m\u001b[Kwarning: \u001b[m\u001b[Kunused variable ‘\u001b[01m\u001b[Ki\u001b[m\u001b[K’ [\u001b[01;35m\u001b[K-Wunused-variable\u001b[m\u001b[K]\n",
      "\n",
      "         \u001b[01;35m\u001b[K^\u001b[m\u001b[K\n",
      "\u001b[01m\u001b[K./src/hw3/panorama_image.c:\u001b[m\u001b[K In function ‘\u001b[01m\u001b[Kcompute_homography\u001b[m\u001b[K’:\n",
      "\u001b[01m\u001b[K./src/hw3/panorama_image.c:225:16:\u001b[m\u001b[K \u001b[01;35m\u001b[Kwarning: \u001b[m\u001b[Kunused variable ‘\u001b[01m\u001b[Kyp\u001b[m\u001b[K’ [\u001b[01;35m\u001b[K-Wunused-variable\u001b[m\u001b[K]\n",
      "\n",
      "                \u001b[01;35m\u001b[K^~\u001b[m\u001b[K\n",
      "\u001b[01m\u001b[K./src/hw3/panorama_image.c:224:16:\u001b[m\u001b[K \u001b[01;35m\u001b[Kwarning: \u001b[m\u001b[Kunused variable ‘\u001b[01m\u001b[Ky\u001b[m\u001b[K’ [\u001b[01;35m\u001b[K-Wunused-variable\u001b[m\u001b[K]\n",
      "\n",
      "                \u001b[01;35m\u001b[K^\u001b[m\u001b[K\n",
      "\u001b[01m\u001b[K./src/hw3/panorama_image.c:223:16:\u001b[m\u001b[K \u001b[01;35m\u001b[Kwarning: \u001b[m\u001b[Kunused variable ‘\u001b[01m\u001b[Kxp\u001b[m\u001b[K’ [\u001b[01;35m\u001b[K-Wunused-variable\u001b[m\u001b[K]\n",
      "\n",
      "                \u001b[01;35m\u001b[K^~\u001b[m\u001b[K\n",
      "\u001b[01m\u001b[K./src/hw3/panorama_image.c:222:16:\u001b[m\u001b[K \u001b[01;35m\u001b[Kwarning: \u001b[m\u001b[Kunused variable ‘\u001b[01m\u001b[Kx\u001b[m\u001b[K’ [\u001b[01;35m\u001b[K-Wunused-variable\u001b[m\u001b[K]\n",
      "\n",
      "                \u001b[01;35m\u001b[K^\u001b[m\u001b[K\n",
      "\u001b[01m\u001b[K./src/hw3/panorama_image.c:\u001b[m\u001b[K In function ‘\u001b[01m\u001b[KRANSAC\u001b[m\u001b[K’:\n",
      "\u001b[01m\u001b[K./src/hw3/panorama_image.c:254:9:\u001b[m\u001b[K \u001b[01;35m\u001b[Kwarning: \u001b[m\u001b[Kunused variable ‘\u001b[01m\u001b[Kbest\u001b[m\u001b[K’ [\u001b[01;35m\u001b[K-Wunused-variable\u001b[m\u001b[K]\n",
      "\n",
      "         \u001b[01;35m\u001b[K^~~~\u001b[m\u001b[K\n",
      "\u001b[01m\u001b[K./src/hw3/panorama_image.c:253:9:\u001b[m\u001b[K \u001b[01;35m\u001b[Kwarning: \u001b[m\u001b[Kunused variable ‘\u001b[01m\u001b[Ke\u001b[m\u001b[K’ [\u001b[01;35m\u001b[K-Wunused-variable\u001b[m\u001b[K]\n",
      "\n",
      "         \u001b[01;35m\u001b[K^\u001b[m\u001b[K\n",
      "gcc -Iinclude/ -Isrc/  -Wall -Wno-unknown-pragmas -Wfatal-errors -fPIC  -Ofast -c ./src/hw4/flow_image.c -o obj/flow_image.o\n",
      "\u001b[01m\u001b[K./src/hw4/flow_image.c:\u001b[m\u001b[K In function ‘\u001b[01m\u001b[Kbox_filter_image\u001b[m\u001b[K’:\n",
      "\u001b[01m\u001b[K./src/hw4/flow_image.c:61:11:\u001b[m\u001b[K \u001b[01;35m\u001b[Kwarning: \u001b[m\u001b[Kunused variable ‘\u001b[01m\u001b[Kinteg\u001b[m\u001b[K’ [\u001b[01;35m\u001b[K-Wunused-variable\u001b[m\u001b[K]\n",
      "\n",
      "           \u001b[01;35m\u001b[K^~~~~\u001b[m\u001b[K\n",
      "\u001b[01m\u001b[K./src/hw4/flow_image.c:60:13:\u001b[m\u001b[K \u001b[01;35m\u001b[Kwarning: \u001b[m\u001b[Kunused variable ‘\u001b[01m\u001b[Kk\u001b[m\u001b[K’ [\u001b[01;35m\u001b[K-Wunused-variable\u001b[m\u001b[K]\n",
      "\n",
      "             \u001b[01;35m\u001b[K^\u001b[m\u001b[K\n",
      "\u001b[01m\u001b[K./src/hw4/flow_image.c:60:11:\u001b[m\u001b[K \u001b[01;35m\u001b[Kwarning: \u001b[m\u001b[Kunused variable ‘\u001b[01m\u001b[Kj\u001b[m\u001b[K’ [\u001b[01;35m\u001b[K-Wunused-variable\u001b[m\u001b[K]\n",
      "\n",
      "           \u001b[01;35m\u001b[K^\u001b[m\u001b[K\n",
      "\u001b[01m\u001b[K./src/hw4/flow_image.c:60:9:\u001b[m\u001b[K \u001b[01;35m\u001b[Kwarning: \u001b[m\u001b[Kunused variable ‘\u001b[01m\u001b[Ki\u001b[m\u001b[K’ [\u001b[01;35m\u001b[K-Wunused-variable\u001b[m\u001b[K]\n",
      "\n",
      "         \u001b[01;35m\u001b[K^\u001b[m\u001b[K\n",
      "\u001b[01m\u001b[K./src/hw4/flow_image.c:\u001b[m\u001b[K In function ‘\u001b[01m\u001b[Ktime_structure_matrix\u001b[m\u001b[K’:\n",
      "\u001b[01m\u001b[K./src/hw4/flow_image.c:75:9:\u001b[m\u001b[K \u001b[01;35m\u001b[Kwarning: \u001b[m\u001b[Kunused variable ‘\u001b[01m\u001b[Ki\u001b[m\u001b[K’ [\u001b[01;35m\u001b[K-Wunused-variable\u001b[m\u001b[K]\n",
      "\n",
      "         \u001b[01;35m\u001b[K^\u001b[m\u001b[K\n",
      "\u001b[01m\u001b[K./src/hw4/flow_image.c:\u001b[m\u001b[K In function ‘\u001b[01m\u001b[Kvelocity_image\u001b[m\u001b[K’:\n",
      "\u001b[01m\u001b[K./src/hw4/flow_image.c:107:19:\u001b[m\u001b[K \u001b[01;35m\u001b[Kwarning: \u001b[m\u001b[Kunused variable ‘\u001b[01m\u001b[KIyt\u001b[m\u001b[K’ [\u001b[01;35m\u001b[K-Wunused-variable\u001b[m\u001b[K]\n",
      "\n",
      "                   \u001b[01;35m\u001b[K^~~\u001b[m\u001b[K\n",
      "\u001b[01m\u001b[K./src/hw4/flow_image.c:106:19:\u001b[m\u001b[K \u001b[01;35m\u001b[Kwarning: \u001b[m\u001b[Kunused variable ‘\u001b[01m\u001b[KIxt\u001b[m\u001b[K’ [\u001b[01;35m\u001b[K-Wunused-variable\u001b[m\u001b[K]\n",
      "\n",
      "                   \u001b[01;35m\u001b[K^~~\u001b[m\u001b[K\n",
      "\u001b[01m\u001b[K./src/hw4/flow_image.c:105:19:\u001b[m\u001b[K \u001b[01;35m\u001b[Kwarning: \u001b[m\u001b[Kunused variable ‘\u001b[01m\u001b[KIxy\u001b[m\u001b[K’ [\u001b[01;35m\u001b[K-Wunused-variable\u001b[m\u001b[K]\n",
      "\n",
      "                   \u001b[01;35m\u001b[K^~~\u001b[m\u001b[K\n",
      "\u001b[01m\u001b[K./src/hw4/flow_image.c:104:19:\u001b[m\u001b[K \u001b[01;35m\u001b[Kwarning: \u001b[m\u001b[Kunused variable ‘\u001b[01m\u001b[KIyy\u001b[m\u001b[K’ [\u001b[01;35m\u001b[K-Wunused-variable\u001b[m\u001b[K]\n",
      "\n",
      "                   \u001b[01;35m\u001b[K^~~\u001b[m\u001b[K\n",
      "\u001b[01m\u001b[K./src/hw4/flow_image.c:103:19:\u001b[m\u001b[K \u001b[01;35m\u001b[Kwarning: \u001b[m\u001b[Kunused variable ‘\u001b[01m\u001b[KIxx\u001b[m\u001b[K’ [\u001b[01;35m\u001b[K-Wunused-variable\u001b[m\u001b[K]\n",
      "\n",
      "                   \u001b[01;35m\u001b[K^~~\u001b[m\u001b[K\n",
      "\u001b[01m\u001b[K./src/hw4/flow_image.c:\u001b[m\u001b[K In function ‘\u001b[01m\u001b[Ktime_structure_matrix\u001b[m\u001b[K’:\n",
      "\u001b[01m\u001b[K./src/hw4/flow_image.c:90:12:\u001b[m\u001b[K \u001b[01;35m\u001b[Kwarning: \u001b[m\u001b[K‘\u001b[01m\u001b[KS\u001b[m\u001b[K’ is used uninitialized in this function [\u001b[01;35m\u001b[K-Wuninitialized\u001b[m\u001b[K]\n",
      "\n",
      "            \u001b[01;35m\u001b[K^\u001b[m\u001b[K\n",
      "gcc -Iinclude/ -Isrc/  -Wall -Wno-unknown-pragmas -Wfatal-errors -fPIC  -Ofast -c ./src/list.c -o obj/list.o\n",
      "gcc -Iinclude/ -Isrc/  -Wall -Wno-unknown-pragmas -Wfatal-errors -fPIC  -Ofast -c ./src/data.c -o obj/data.o\n",
      "\u001b[01m\u001b[K./src/data.c:\u001b[m\u001b[K In function ‘\u001b[01m\u001b[Kfgetl\u001b[m\u001b[K’:\n",
      "\u001b[01m\u001b[K./src/data.c:111:9:\u001b[m\u001b[K \u001b[01;35m\u001b[Kwarning: \u001b[m\u001b[Kignoring return value of ‘\u001b[01m\u001b[Kfgets\u001b[m\u001b[K’, declared with attribute warn_unused_result [\u001b[01;35m\u001b[K-Wunused-result\u001b[m\u001b[K]\n",
      "\n",
      "         \u001b[01;35m\u001b[K^~~~~~~~~~~~~~~~~~~~~~~~~~~~~~~~\u001b[m\u001b[K\n",
      "gcc -Iinclude/ -Isrc/  -Wall -Wno-unknown-pragmas -Wfatal-errors -fPIC  -Ofast -c ./src/hw5/classifier.c -o obj/classifier.o\n",
      "\u001b[01m\u001b[K./src/hw5/classifier.c:\u001b[m\u001b[K In function ‘\u001b[01m\u001b[Kactivate_matrix\u001b[m\u001b[K’:\n",
      "\u001b[01m\u001b[K./src/hw5/classifier.c:16:20:\u001b[m\u001b[K \u001b[01;35m\u001b[Kwarning: \u001b[m\u001b[Kunused variable ‘\u001b[01m\u001b[Kx\u001b[m\u001b[K’ [\u001b[01;35m\u001b[K-Wunused-variable\u001b[m\u001b[K]\n",
      "\n",
      "                    \u001b[01;35m\u001b[K^\u001b[m\u001b[K\n",
      "\u001b[01m\u001b[K./src/hw5/classifier.c:\u001b[m\u001b[K In function ‘\u001b[01m\u001b[Kgradient_matrix\u001b[m\u001b[K’:\n",
      "\u001b[01m\u001b[K./src/hw5/classifier.c:44:20:\u001b[m\u001b[K \u001b[01;35m\u001b[Kwarning: \u001b[m\u001b[Kunused variable ‘\u001b[01m\u001b[Kx\u001b[m\u001b[K’ [\u001b[01;35m\u001b[K-Wunused-variable\u001b[m\u001b[K]\n",
      "\n",
      "                    \u001b[01;35m\u001b[K^\u001b[m\u001b[K\n",
      "gcc -Wall -Wno-unknown-pragmas -Wfatal-errors -fPIC  -Ofast -shared obj/image_opencv.o obj/load_image.o obj/process_image.o obj/args.o obj/filter_image.o obj/resize_image.o obj/test.o obj/harris_image.o obj/matrix.o obj/panorama_image.o obj/flow_image.o obj/list.o obj/data.o obj/classifier.o -o libuwimg.so -lm -pthread \n",
      "ar rcs libuwimg.a obj/image_opencv.o obj/load_image.o obj/process_image.o obj/args.o obj/filter_image.o obj/resize_image.o obj/test.o obj/harris_image.o obj/matrix.o obj/panorama_image.o obj/flow_image.o obj/list.o obj/data.o obj/classifier.o\n",
      "gcc -Iinclude/ -Isrc/  -Wall -Wno-unknown-pragmas -Wfatal-errors -fPIC  -Ofast -c ./src/main.c -o obj/main.o\n",
      "gcc -Iinclude/ -Isrc/  -Wall -Wno-unknown-pragmas -Wfatal-errors -fPIC  -Ofast obj/main.o obj/image_opencv.o obj/load_image.o obj/process_image.o obj/args.o obj/filter_image.o obj/resize_image.o obj/test.o obj/harris_image.o obj/matrix.o obj/panorama_image.o obj/flow_image.o obj/list.o obj/data.o obj/classifier.o -o uwimg -lm -pthread  \n",
      "make: warning:  Clock skew detected.  Your build may be incomplete.\n"
     ]
    }
   ],
   "metadata": {}
  },
  {
   "cell_type": "code",
   "execution_count": 3,
   "source": [
    "!./uwimg test hw2"
   ],
   "outputs": [
    {
     "output_type": "stream",
     "name": "stdout",
     "text": [
      "passed: [test_gaussian_filter] testing [same_image(f, gt, EPS)] in ./src/test.c, line 345\n",
      "passed: [test_sharpen_filter] testing [same_image(blur, gt, EPS)] in ./src/test.c, line 314\n",
      "passed: [test_emboss_filter] testing [same_image(blur, gt, EPS)] in ./src/test.c, line 299\n",
      "passed: [test_highpass_filter] testing [same_image(blur, gt, EPS)] in ./src/test.c, line 284\n",
      "passed: [test_convolution] testing [same_image(blur, gt, EPS)] in ./src/test.c, line 328\n",
      "passed: [test_gaussian_blur] testing [same_image(blur, gt, EPS)] in ./src/test.c, line 357\n",
      "passed: [test_hybrid_image] testing [same_image(reconstruct, gt, EPS)] in ./src/test.c, line 374\n",
      "passed: [test_frequency_image] testing [same_image(lfreq, low_freq, EPS)] in ./src/test.c, line 397\n",
      "passed: [test_frequency_image] testing [same_image(hfreq, high_freq, EPS)] in ./src/test.c, line 398\n",
      "passed: [test_frequency_image] testing [same_image(reconstruct, im, EPS)] in ./src/test.c, line 399\n",
      "passed: [test_sobel] testing [gt_mag.w == mag.w && gt_theta.w == theta.w] in ./src/test.c, line 421\n",
      "passed: [test_sobel] testing [gt_mag.h == mag.h && gt_theta.h == theta.h] in ./src/test.c, line 422\n",
      "passed: [test_sobel] testing [gt_mag.c == mag.c && gt_theta.c == theta.c] in ./src/test.c, line 423\n",
      "passed: [test_sobel] testing [same_image(mag, gt_mag, EPS)] in ./src/test.c, line 439\n",
      "passed: [test_sobel] testing [same_image(theta, gt_theta, EPS)] in ./src/test.c, line 440\n",
      "15 tests, 15 passed, 0 failed\n"
     ]
    }
   ],
   "metadata": {}
  },
  {
   "cell_type": "code",
   "execution_count": 1,
   "source": [
    "from uwimg import *"
   ],
   "outputs": [],
   "metadata": {}
  },
  {
   "cell_type": "code",
   "execution_count": 5,
   "source": [
    "im = load_image(\"data/dog.jpg\")\n",
    "f = make_box_filter(7)\n",
    "blur = convolve_image(im, f, 1)\n",
    "save_image(blur, \"dog-box7\")"
   ],
   "outputs": [],
   "metadata": {}
  },
  {
   "cell_type": "code",
   "execution_count": 6,
   "source": [
    "im = load_image(\"data/dog.jpg\")\n",
    "f = make_sharpen_filter()\n",
    "sharpen = convolve_image(im, f, 1)\n",
    "feature_normalize(sharpen)\n",
    "save_image(sharpen, \"dog-sharpen\")"
   ],
   "outputs": [],
   "metadata": {}
  },
  {
   "cell_type": "code",
   "execution_count": 7,
   "source": [
    "im = load_image(\"data/dog.jpg\")\n",
    "f = make_emboss_filter()\n",
    "emboss = convolve_image(im, f, 1)\n",
    "feature_normalize(emboss)\n",
    "save_image(emboss, \"dog-emboss\")"
   ],
   "outputs": [],
   "metadata": {}
  },
  {
   "cell_type": "code",
   "execution_count": 8,
   "source": [
    "im = load_image(\"data/dog.jpg\")\n",
    "f = make_gaussian_filter(2)\n",
    "lfreq = convolve_image(im, f, 1)\n",
    "hfreq = im - lfreq\n",
    "reconstruct = lfreq + hfreq\n",
    "save_image(lfreq, \"low-frequency\")\n",
    "save_image(hfreq, \"high-frequency\")\n",
    "save_image(reconstruct, \"reconstruct\")"
   ],
   "outputs": [],
   "metadata": {}
  },
  {
   "cell_type": "code",
   "execution_count": 9,
   "source": [
    "im = load_image(\"data/dog.jpg\")\n",
    "res = sobel_image(im)\n",
    "mag = res[0]\n",
    "feature_normalize(mag)\n",
    "hsv_to_rgb(mag)\n",
    "save_image(mag, \"magnitude\")"
   ],
   "outputs": [],
   "metadata": {}
  },
  {
   "cell_type": "code",
   "execution_count": 10,
   "source": [
    "im = load_image(\"data/dog.jpg\")\n",
    "tes = colorize_sobel(im, 2)\n",
    "feature_normalize(tes)\n",
    "save_image(tes, 'colorized')\n"
   ],
   "outputs": [],
   "metadata": {}
  },
  {
   "cell_type": "code",
   "execution_count": 11,
   "source": [
    "im = load_image(\"data/dog.jpg\")\n",
    "tes = colorize_sobel(im, 1)\n",
    "feature_normalize(tes)\n",
    "save_image(tes, 'colorized-sigma-1')"
   ],
   "outputs": [],
   "metadata": {}
  },
  {
   "cell_type": "code",
   "execution_count": 2,
   "source": [
    "im = load_image(\"data/dog.jpg\")\n",
    "res = sobel_image(im)\n",
    "mag = res[1]\n",
    "feature_normalize(mag)\n",
    "hsv_to_rgb(mag)\n",
    "save_image(mag, \"thetas\")"
   ],
   "outputs": [],
   "metadata": {}
  },
  {
   "cell_type": "code",
   "execution_count": null,
   "source": [],
   "outputs": [],
   "metadata": {}
  }
 ],
 "metadata": {
  "orig_nbformat": 4,
  "language_info": {
   "name": "python",
   "version": "3.8.5",
   "mimetype": "text/x-python",
   "codemirror_mode": {
    "name": "ipython",
    "version": 3
   },
   "pygments_lexer": "ipython3",
   "nbconvert_exporter": "python",
   "file_extension": ".py"
  },
  "kernelspec": {
   "name": "python3",
   "display_name": "Python 3.8.5 64-bit ('base': conda)"
  },
  "interpreter": {
   "hash": "1a60dd4bced3efecd93a718536399be43d71f985ba43b988f36c69fad2e8c7bd"
  }
 },
 "nbformat": 4,
 "nbformat_minor": 2
}